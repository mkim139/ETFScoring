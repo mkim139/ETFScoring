{
 "cells": [
  {
   "cell_type": "code",
   "execution_count": 20,
   "metadata": {},
   "outputs": [],
   "source": [
    "import torch\n",
    "import torch.nn as nn\n",
    "import torch.nn.functional as F\n",
    "import numpy as np\n",
    "from torch.utils.data import Dataset, DataLoader\n",
    "import torch.optim as optim\n",
    "from tqdm.notebook import tqdm as tqdm \n",
    "import pandas as pd"
   ]
  },
  {
   "cell_type": "code",
   "execution_count": 21,
   "metadata": {},
   "outputs": [],
   "source": [
    "class CNNencoder(nn.Module):\n",
    "    def __init__(self, emb, vocab_size, embedding_dim):\n",
    "        super(CNNencoder, self).__init__()\n",
    "        self.embeds = nn.Embedding(vocab_size,embedding_dim)\n",
    "        self.embeds.weight = nn.Parameter(emb)\n",
    "        self.conv1 = nn.Conv2d(1, 1, kernel_size=(3,embedding_dim))\n",
    "        self.conv2 = nn.Conv2d(1, 1, kernel_size=(4,embedding_dim))\n",
    "        self.conv3 = nn.Conv2d(1, 1, kernel_size=(5,embedding_dim))\n",
    "        \n",
    "        self.fc = nn.Linear(3,200)\n",
    "\n",
    "    def forward(self, x):\n",
    "        n = x.shape[1]\n",
    "        num = x.shape[0]\n",
    "        x = self.embeds(x).view(num,1,n,embedding_dim)\n",
    "        x1 = F.max_pool1d(torch.transpose(F.relu(self.conv1(x).view(num,n-3+1,1)),dim0=1,dim1=2), n-3+1)\n",
    "        x2 = F.max_pool1d(torch.transpose(F.relu(self.conv2(x).view(num,n-4+1,1)),dim0=1,dim1=2), n-4+1)\n",
    "        x3 = F.max_pool1d(torch.transpose(F.relu(self.conv3(x).view(num,n-5+1,1)),dim0=1,dim1=2), n-5+1)\n",
    "        x = torch.cat([x1,x2,x3],dim=1).squeeze()\n",
    "        x = self.fc(x)\n",
    "        return x"
   ]
  },
  {
   "cell_type": "code",
   "execution_count": 22,
   "metadata": {
    "scrolled": true
   },
   "outputs": [],
   "source": [
    "class etfscorer(nn.Module):\n",
    "    def __init__(self, embedding_dim, hidden_dim, attention_dim):\n",
    "        super(etfscorer, self).__init__()\n",
    "        self.hidden_dim = hidden_dim\n",
    "        self.lstm = nn.LSTM(embedding_dim, hidden_dim, num_layers=2, bidirectional=False, dropout=.2)\n",
    "        \n",
    "#         self.wh = nn.Linear(hidden_dim, attention_dim,bias=False)\n",
    "#         self.dw = nn.Dropout(p=.2)\n",
    "#         self.act = nn.Tanh()\n",
    "#         self.r = nn.Linear(attention_dim, 1,bias=False)     \n",
    "\n",
    "        self.l1 = nn.Linear(hidden_dim, hidden_dim + int(hidden_dim/2))\n",
    "        self.rel = nn.Tanh()\n",
    "        self.dl1 = nn.Dropout(p=.2)\n",
    "        self.l2 = nn.Linear(hidden_dim + int(hidden_dim/2),hidden_dim)\n",
    "        self.l3 = nn.Linear(hidden_dim, 1)\n",
    "        \n",
    "    def forward(self, x):\n",
    "        out,_ = self.lstm(x)\n",
    "        mr = out[-1]\n",
    "#         er = self.wh(out)\n",
    "#         er = self.act(er)\n",
    "#         er = self.dw(er)      \n",
    "#         ar = self.r(er)\n",
    "#         atr = F.softmax(ar,dim=0)\n",
    "#         mr = (out*atr).sum(0)\n",
    "\n",
    "        out = self.l1(mr)\n",
    "        out = self.rel(out)\n",
    "        out = self.dl1(out)\n",
    "        out = self.l2(out)\n",
    "        out = self.l3(out)\n",
    "        \n",
    "        return out"
   ]
  },
  {
   "cell_type": "code",
   "execution_count": 23,
   "metadata": {},
   "outputs": [],
   "source": [
    "class finalmodel(nn.Module):\n",
    "    def __init__(self, txtencoder,scorer):\n",
    "        super(finalmodel, self).__init__()\n",
    "        self.encoder = txtencoder\n",
    "        self.scorer = scorer\n",
    "\n",
    "    def forward(self, corp, price):\n",
    "        N = corp.shape[0]\n",
    "        encl = []\n",
    "        for i in range(N):\n",
    "            enc = self.encoder(corp[i])\n",
    "            encl.append(enc)\n",
    "        encl = torch.stack(encl)\n",
    "        scinp = torch.cat([price.view(price.shape[0],price.shape[1],1),encl],dim=2)\n",
    "        scinp = scinp.permute(1,0,2)\n",
    "        out = self.scorer(scinp)\n",
    "        out = torch.sigmoid(out)\n",
    "        return out.flatten()"
   ]
  },
  {
   "cell_type": "code",
   "execution_count": 24,
   "metadata": {},
   "outputs": [],
   "source": [
    "emb = torch.tensor(np.load('initembedding (1).npy')).float()\n",
    "embedding_dim = emb.shape[1]\n",
    "vocab_size = emb.shape[0]\n",
    "encoder = CNNencoder(emb, vocab_size, embedding_dim)"
   ]
  },
  {
   "cell_type": "code",
   "execution_count": 25,
   "metadata": {},
   "outputs": [],
   "source": [
    "sc_embedding_dim = 200\n",
    "sc_hidden_dim = 300\n",
    "sc_attention_dim = 200\n",
    "scorer = etfscorer(sc_embedding_dim+1, sc_hidden_dim, sc_attention_dim)"
   ]
  },
  {
   "cell_type": "code",
   "execution_count": 26,
   "metadata": {},
   "outputs": [],
   "source": [
    "model = finalmodel(encoder,scorer).cuda()"
   ]
  },
  {
   "cell_type": "code",
   "execution_count": 27,
   "metadata": {},
   "outputs": [],
   "source": [
    "traincorpar = np.load('traincorpar.npy')\n",
    "trainpricech = np.load('trainpricech.npy')\n",
    "traintarget = (np.load('traintarget.npy') > 0) + 0\n",
    "\n",
    "testcorpar = np.load('testcorpar.npy')\n",
    "testpricech = np.load('testpricech.npy')\n",
    "testtarget = (np.load('testtarget.npy') > 0) + 0"
   ]
  },
  {
   "cell_type": "code",
   "execution_count": 28,
   "metadata": {},
   "outputs": [],
   "source": [
    "#train param\n",
    "batch_size = 16\n",
    "lr = .00001\n",
    "num_epoch = 50\n",
    "max_grad_norm = 0.5\n",
    "wei_dec = .0001\n",
    "log_interval = 600\n",
    "# loss_fn = nn.MSELoss()\n",
    "loss_fn = nn.BCELoss()\n",
    "model_name = 'stockscoring_edit.pth'\n",
    "optimizer = optimizer = optim.Adam(model.parameters(), lr=lr,  weight_decay =wei_dec)"
   ]
  },
  {
   "cell_type": "code",
   "execution_count": 29,
   "metadata": {
    "scrolled": true
   },
   "outputs": [],
   "source": [
    "class Dataset(Dataset):\n",
    "    def __init__(self, corp, pricech, target):\n",
    "\n",
    "        self.corp = torch.tensor(corp).long()\n",
    "        self.pricech = torch.tensor(pricech).float()\n",
    "        self.target = torch.tensor(target).float()\n",
    "\n",
    "    def __getitem__(self, i):\n",
    "        return (self.corp[i], self.pricech[:,i], self.target[i])\n",
    "\n",
    "    def __len__(self):\n",
    "        return (len(self.target))"
   ]
  },
  {
   "cell_type": "code",
   "execution_count": 30,
   "metadata": {},
   "outputs": [],
   "source": [
    "traindataset = Dataset(traincorpar,trainpricech,traintarget)\n",
    "testdataset = Dataset(testcorpar,testpricech,testtarget)"
   ]
  },
  {
   "cell_type": "code",
   "execution_count": 31,
   "metadata": {},
   "outputs": [],
   "source": [
    "train_dataloader = torch.utils.data.DataLoader(traindataset, batch_size=batch_size)\n",
    "test_dataloader = torch.utils.data.DataLoader(testdataset, batch_size=batch_size)"
   ]
  },
  {
   "cell_type": "code",
   "execution_count": 32,
   "metadata": {},
   "outputs": [],
   "source": [
    "trl = []\n",
    "ttl = []\n",
    "acc = []\n",
    "preci = []"
   ]
  },
  {
   "cell_type": "code",
   "execution_count": null,
   "metadata": {
    "collapsed": true
   },
   "outputs": [
    {
     "data": {
      "application/vnd.jupyter.widget-view+json": {
       "model_id": "d2fb6a368c3940ff92e1532146ae5880",
       "version_major": 2,
       "version_minor": 0
      },
      "text/plain": [
       "  0%|          | 0/6100 [00:00<?, ?it/s]"
      ]
     },
     "metadata": {},
     "output_type": "display_data"
    },
    {
     "name": "stdout",
     "output_type": "stream",
     "text": [
      "Epoch:  1  Batch ID:  0  Train Loss:  0.04264872148633003\n",
      "Epoch:  1  Batch ID:  600  Train Loss:  0.04334005348371983\n",
      "Epoch:  1  Batch ID:  1200  Train Loss:  0.043334787371851424\n",
      "Epoch:  1  Batch ID:  1800  Train Loss:  0.043289900957495554\n",
      "Epoch:  1  Batch ID:  2400  Train Loss:  0.04329027386784851\n",
      "Epoch:  1  Batch ID:  3000  Train Loss:  0.043285768244493726\n",
      "Epoch:  1  Batch ID:  3600  Train Loss:  0.04324483110884169\n",
      "Epoch:  1  Batch ID:  4200  Train Loss:  0.043256263079472425\n",
      "Epoch:  1  Batch ID:  4800  Train Loss:  0.04326543294031455\n",
      "Epoch:  1  Batch ID:  5400  Train Loss:  0.04327049206992671\n",
      "Epoch:  1  Batch ID:  6000  Train Loss:  0.04327431040241944\n"
     ]
    },
    {
     "data": {
      "application/vnd.jupyter.widget-view+json": {
       "model_id": "996ff61f27d44beda8c363b98b8fa76e",
       "version_major": 2,
       "version_minor": 0
      },
      "text/plain": [
       "  0%|          | 0/4180 [00:00<?, ?it/s]"
      ]
     },
     "metadata": {},
     "output_type": "display_data"
    },
    {
     "name": "stdout",
     "output_type": "stream",
     "text": [
      "epoch:  1  Test Loss:  0.043458580965416854 Acc:  0.48384973406791687 Prec:  nan\n"
     ]
    },
    {
     "data": {
      "application/vnd.jupyter.widget-view+json": {
       "model_id": "5a6a8debc4e740338fb2235455e98ffa",
       "version_major": 2,
       "version_minor": 0
      },
      "text/plain": [
       "  0%|          | 0/6100 [00:00<?, ?it/s]"
      ]
     },
     "metadata": {},
     "output_type": "display_data"
    },
    {
     "name": "stdout",
     "output_type": "stream",
     "text": [
      "Epoch:  2  Batch ID:  0  Train Loss:  0.04482661560177803\n",
      "Epoch:  2  Batch ID:  600  Train Loss:  0.04332601821387865\n",
      "Epoch:  2  Batch ID:  1200  Train Loss:  0.043325887730873994\n",
      "Epoch:  2  Batch ID:  1800  Train Loss:  0.04327571888488905\n",
      "Epoch:  2  Batch ID:  2400  Train Loss:  0.04327142929060168\n",
      "Epoch:  2  Batch ID:  3000  Train Loss:  0.04326057714502917\n"
     ]
    }
   ],
   "source": [
    "#training scheme\n",
    "for i in range(num_epoch):\n",
    "    train_loss = 0\n",
    "    test_loss = 0\n",
    "    model.train()\n",
    "    #### Training\n",
    "    for batch_id, (x_c,x_p,y) in enumerate(tqdm(train_dataloader)):\n",
    "        optimizer.zero_grad()\n",
    "        out = model(x_c.cuda(),x_p.cuda())\n",
    "    \n",
    "        loss = loss_fn(out,y.cuda())\n",
    "        \n",
    "        loss.backward()\n",
    "        torch.nn.utils.clip_grad_norm_(model.parameters(), max_grad_norm)\n",
    "        optimizer.step()\n",
    "        \n",
    "        lossavg = (loss/len(y)).data.cpu().numpy()\n",
    "        train_loss += lossavg\n",
    "        \n",
    "        if batch_id % log_interval == 0:\n",
    "            print('Epoch: ',i+1,' Batch ID: ',batch_id,' Train Loss: ',train_loss / (batch_id+1))\n",
    "        trl.append(train_loss / (batch_id+1))\n",
    "        \n",
    "        \n",
    "    #### Evaluation on Testset\n",
    "    model.eval()\n",
    "    acc_cnt = 0\n",
    "    cnt = 0\n",
    "    prec_cnt = 0\n",
    "    cnt2 = 0\n",
    "    for batch_id, (x_c,x_p,y) in enumerate(tqdm(test_dataloader)):\n",
    "        out = model(x_c.cuda(),x_p.cuda())\n",
    "\n",
    "        loss = loss_fn(out,y.cuda())\n",
    "\n",
    "        lossavg = (loss/len(y)).data.cpu().numpy()\n",
    "        cnt += len(y)\n",
    "        acc_cnt += sum((out > .5) == (y.cuda() > 0))\n",
    "        cnt2 += sum(out > .5).detach().cpu()\n",
    "        prec_cnt += sum(y[out > .5])\n",
    "        test_loss += lossavg\n",
    "    print('epoch: ',i+1,' Test Loss: ',test_loss / (batch_id+1), 'Acc: ',(acc_cnt/cnt).item(),'Prec: ', (prec_cnt/cnt2).item())\n",
    "    if len(acc) > 0:\n",
    "        if max(acc) < (acc_cnt/cnt).item():\n",
    "            torch.save(model.state_dict(),model_name)\n",
    "    else : torch.save(model.state_dict(),model_name)\n",
    "    ttl.append((test_loss/ (batch_id+1)))\n",
    "    acc.append((acc_cnt/cnt).item())\n",
    "    preci.append((prec_cnt/cnt2).item())"
   ]
  },
  {
   "cell_type": "code",
   "execution_count": 36,
   "metadata": {},
   "outputs": [
    {
     "data": {
      "text/plain": [
       "<All keys matched successfully>"
      ]
     },
     "execution_count": 36,
     "metadata": {},
     "output_type": "execute_result"
    }
   ],
   "source": [
    "model.load_state_dict(torch.load(model_name))"
   ]
  },
  {
   "cell_type": "code",
   "execution_count": null,
   "metadata": {},
   "outputs": [
    {
     "data": {
      "application/vnd.jupyter.widget-view+json": {
       "model_id": "ce2cfeb1f1e141e18f61659abbbf26cd",
       "version_major": 2,
       "version_minor": 0
      },
      "text/plain": [
       "  0%|          | 0/4180 [00:00<?, ?it/s]"
      ]
     },
     "metadata": {},
     "output_type": "display_data"
    }
   ],
   "source": [
    "outs = []\n",
    "ys = []\n",
    "i=0\n",
    "test_loss=0\n",
    "model.eval()\n",
    "acc_cnt = 0\n",
    "cnt = 0\n",
    "prec_cnt = 0\n",
    "cnt2 = 0\n",
    "for batch_id, (x_c,x_p,y) in enumerate(tqdm(test_dataloader)):\n",
    "    out = model(x_c.cuda(),x_p.cuda())\n",
    "\n",
    "    loss = loss_fn(out,y.cuda())\n",
    "\n",
    "    lossavg = (loss/len(y)).data.cpu().numpy()\n",
    "    cnt += len(y)\n",
    "    cnt2 += sum(out > .5).detach().cpu()\n",
    "    prec_cnt += sum(y[out > .5])\n",
    "    acc_cnt += sum((out > .5) == y.cuda())\n",
    "    test_loss += lossavg\n",
    "    outs += out.tolist()\n",
    "    ys += y.tolist()\n",
    "print('epoch: ',i+1,' Test Loss: ',test_loss / (batch_id+1), 'Acc: ',(acc_cnt/cnt).item(),'Prec: ', (prec_cnt/cnt2).item())"
   ]
  },
  {
   "cell_type": "code",
   "execution_count": null,
   "metadata": {},
   "outputs": [
    {
     "data": {
      "application/vnd.jupyter.widget-view+json": {
       "model_id": "28f4f155ec1e4f799f40ca8586a13e7f",
       "version_major": 2,
       "version_minor": 0
      },
      "text/plain": [
       "  0%|          | 0/6100 [00:00<?, ?it/s]"
      ]
     },
     "metadata": {},
     "output_type": "display_data"
    }
   ],
   "source": [
    "outs = []\n",
    "ys = []\n",
    "i=0\n",
    "test_loss=0\n",
    "model.eval()\n",
    "acc_cnt = 0\n",
    "cnt = 0\n",
    "prec_cnt = 0\n",
    "cnt2 = 0\n",
    "for batch_id, (x_c,x_p,y) in enumerate(tqdm(train_dataloader)):\n",
    "    out = model(x_c.cuda(),x_p.cuda())\n",
    "\n",
    "    loss = loss_fn(out,y.cuda())\n",
    "\n",
    "    lossavg = (loss/len(y)).data.cpu().numpy()\n",
    "    cnt += len(y)\n",
    "    cnt2 += sum(out > .5).detach().cpu()\n",
    "    prec_cnt += sum(y[out > .5])\n",
    "    acc_cnt += sum((out > .5) == y.cuda())\n",
    "    test_loss += lossavg\n",
    "    outs += out.tolist()\n",
    "    ys += y.tolist()\n",
    "print('epoch: ',i+1,' Test Loss: ',test_loss / (batch_id+1), 'Acc: ',(acc_cnt/cnt).item(),'Prec: ', (prec_cnt/cnt2).item())"
   ]
  },
  {
   "cell_type": "code",
   "execution_count": 98,
   "metadata": {},
   "outputs": [
    {
     "data": {
      "image/png": "[encoded data removed]",
      "text/plain": [
       "<Figure size 612x504 with 4 Axes>"
      ]
     },
     "metadata": {
      "needs_background": "light"
     },
     "output_type": "display_data"
    }
   ],
   "source": [
    "plt.figure(figsize=(8.5,7))\n",
    "plt.subplot(2,2,1)\n",
    "plt.plot(trl)\n",
    "plt.title('Training error')\n",
    "plt.yticks(rotation=45)\n",
    "\n",
    "plt.subplot(2,2,2)\n",
    "plt.plot(ttl)\n",
    "plt.title('Testing error')\n",
    "plt.yticks(rotation=45)\n",
    "\n",
    "plt.subplot(2,2,3)\n",
    "plt.plot(acc)\n",
    "plt.title('Accuracy')\n",
    "plt.yticks(rotation=45)\n",
    "\n",
    "plt.subplot(2,2,4)\n",
    "plt.plot(preci)\n",
    "plt.title('Precision')\n",
    "plt.yticks(rotation=45)\n",
    "\n",
    "plt.show()"
   ]
  },
  {
   "cell_type": "markdown",
   "metadata": {},
   "source": [
    "* Training error는 하락하고 Testing error는 상승함으로 Overfitting되어 가고 있음\n",
    "* 하지만 Accuracy와 Precision이 지속적으로 상승하는 것을 확인 할 수 있음"
   ]
  },
  {
   "cell_type": "code",
   "execution_count": 85,
   "metadata": {},
   "outputs": [
    {
     "name": "stdout",
     "output_type": "stream",
     "text": [
      "Model summary\n",
      "Precision on 1: 0.5261973099217738\n",
      "Recall on 1: 0.5417777262718739\n",
      "Precision on 0: 0.4952447820259144\n",
      "Recall on 0: 0.47960192854493755\n"
     ]
    }
   ],
   "source": [
    "print('Model summary')\n",
    "print('Precision on 1:',np.mean(np.array(ys)[np.array(outs) > .5]))\n",
    "print('Recall on 1:',sum(np.array(ys)[np.array(outs) > .5])/sum(np.array(ys)==1))\n",
    "print('Precision on 0:',1-np.mean(np.array(ys)[np.array(outs) <= .5]))\n",
    "print('Recall on 0:',sum(np.array(ys)[np.array(outs) <= .5]==0)/sum(np.array(ys)==0))"
   ]
  },
  {
   "cell_type": "code",
   "execution_count": 44,
   "metadata": {
    "scrolled": false
   },
   "outputs": [
    {
     "name": "stderr",
     "output_type": "stream",
     "text": [
      "/usr/local/lib/python3.6/dist-packages/numpy/core/fromnumeric.py:3373: RuntimeWarning: Mean of empty slice.\n",
      "  out=out, **kwargs)\n",
      "/usr/local/lib/python3.6/dist-packages/numpy/core/_methods.py:170: RuntimeWarning: invalid value encountered in double_scalars\n",
      "  ret = ret.dtype.type(ret / rcount)\n"
     ]
    }
   ],
   "source": [
    "nums = []\n",
    "predicted = []\n",
    "for i in np.arange(.2,1,.01):\n",
    "    num = sum(np.array(outs) > i)\n",
    "    nums.append(num)\n",
    "    predicted.append(np.mean(np.array(ys)[np.array(outs) > i]))"
   ]
  },
  {
   "cell_type": "code",
   "execution_count": 45,
   "metadata": {},
   "outputs": [
    {
     "data": {
      "text/plain": [
       "Text(0, 0.5, 'Precision')"
      ]
     },
     "execution_count": 45,
     "metadata": {},
     "output_type": "execute_result"
    },
    {
     "data": {
      "image/png": "[encoded data removed]",
      "text/plain": [
       "<Figure size 720x216 with 2 Axes>"
      ]
     },
     "metadata": {
      "needs_background": "light"
     },
     "output_type": "display_data"
    }
   ],
   "source": [
    "import matplotlib.pyplot as plt\n",
    "plt.figure(figsize=(10,3))\n",
    "plt.subplot(1,2,1)\n",
    "plt.scatter(np.arange(.2,1,.01),nums)\n",
    "plt.subplot(1,2,2)\n",
    "plt.scatter(np.arange(.2,1,.01),predicted)\n",
    "plt.title('Threshold vs. Precision')\n",
    "plt.xlabel('Threshold')\n",
    "plt.ylabel('Precision')"
   ]
  },
  {
   "cell_type": "code",
   "execution_count": 96,
   "metadata": {},
   "outputs": [
    {
     "data": {
      "text/plain": [
       "<matplotlib.lines.Line2D at 0x7fc9a57bf940>"
      ]
     },
     "execution_count": 96,
     "metadata": {},
     "output_type": "execute_result"
    },
    {
     "data": {
      "image/png": "[encoded data removed]",
      "text/plain": [
       "<Figure size 432x288 with 1 Axes>"
      ]
     },
     "metadata": {
      "needs_background": "light"
     },
     "output_type": "display_data"
    }
   ],
   "source": [
    "#Test threshold\n",
    "plt.plot(np.arange(.2,1,.01)[:-20],predicted[:-20],color='black') \n",
    "plt.axvline(.5,linestyle='--',color='red')\n",
    "plt.axhline(.51,linestyle='--',color='navy')\n",
    "#strong linear pattern after .5, found that this was great point to consider investing\n",
    "#but precision significantly drops for very high score"
   ]
  },
  {
   "cell_type": "markdown",
   "metadata": {},
   "source": [
    "* Threshold를 증가하여 예측할때 마다 예측 Precision이 증가하는것을 볼 수 있음\n",
    "* 특히, .5 이후 강한 upward linear pattern을 확인 할 수 있음\n",
    "* .5 이상의 점수를 받은 경우, 투자를 고려하는 전략을 선택할 수 있을 만하며, 큰 점수일 경우 큰 confidence로 볼 수도 있음\n",
    "* .7 이상 점수를 받는 경우에 precision이 급락하는걸 볼 수 있는데, 이건 .7 이상 점수를 받은 경우가 드물어서일 가능성이 클 것으로 보임"
   ]
  },
  {
   "cell_type": "code",
   "execution_count": 56,
   "metadata": {},
   "outputs": [],
   "source": [
    "testans = pd.read_csv('testans.csv').iloc[:,1:]"
   ]
  },
  {
   "cell_type": "code",
   "execution_count": 67,
   "metadata": {},
   "outputs": [],
   "source": [
    "testans['label'] = pd.Series(ys)\n",
    "testans['pred'] = pd.Series(outs)"
   ]
  },
  {
   "cell_type": "code",
   "execution_count": 73,
   "metadata": {},
   "outputs": [],
   "source": [
    "subtestans = testans[['date','name','pred']]"
   ]
  },
  {
   "cell_type": "code",
   "execution_count": 76,
   "metadata": {},
   "outputs": [],
   "source": [
    "scores_format = subtestans.set_index(['date','name'])['pred'].unstack()"
   ]
  },
  {
   "cell_type": "code",
   "execution_count": 77,
   "metadata": {},
   "outputs": [],
   "source": [
    "scores_format.to_csv('scores_format.csv')"
   ]
  }
 ],
 "metadata": {
  "kernelspec": {
   "display_name": "Python 3 (ipykernel)",
   "language": "python",
   "name": "python3"
  },
  "language_info": {
   "codemirror_mode": {
    "name": "ipython",
    "version": 3
   },
   "file_extension": ".py",
   "mimetype": "text/x-python",
   "name": "python",
   "nbconvert_exporter": "python",
   "pygments_lexer": "ipython3",
   "version": "3.9.7"
  }
 },
 "nbformat": 4,
 "nbformat_minor": 2
}
