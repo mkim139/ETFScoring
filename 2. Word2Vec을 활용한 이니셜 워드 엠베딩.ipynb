{
 "cells": [
  {
   "cell_type": "code",
   "execution_count": 1,
   "metadata": {},
   "outputs": [],
   "source": [
    "import pandas as pd\n",
    "from konlpy.tag import Okt\n",
    "from gensim.models import Word2Vec\n",
    "okt = Okt()\n",
    "import re\n",
    "import os\n",
    "import numpy as np"
   ]
  },
  {
   "cell_type": "markdown",
   "metadata": {},
   "source": [
    "### Initial Embedding"
   ]
  },
  {
   "cell_type": "code",
   "execution_count": 70,
   "metadata": {},
   "outputs": [],
   "source": [
    "dl = pd.Series(os.listdir('/opt/notebooks/AA008/ws_fn/데이터수집/data/빅카인즈'))\n",
    "dlb = dl.apply(lambda x : x.endswith('csv'))\n",
    "dl = dl[dlb].reset_index(drop=True)"
   ]
  },
  {
   "cell_type": "code",
   "execution_count": 71,
   "metadata": {},
   "outputs": [],
   "source": [
    "dfs = []\n",
    "for i in dl:\n",
    "    tempdf = pd.read_csv('/opt/notebooks/AA008/ws_fn/데이터수집/data/빅카인즈/' + i)\n",
    "    dfs.append(tempdf)\n",
    "dfs = pd.concat(dfs,axis=0).reset_index(drop=True)"
   ]
  },
  {
   "cell_type": "code",
   "execution_count": 78,
   "metadata": {},
   "outputs": [],
   "source": [
    "dfs = dfs[dfs['기준일자'] < 20181231].sample(10000000).reset_index(drop=True)"
   ]
  },
  {
   "cell_type": "code",
   "execution_count": 3,
   "metadata": {},
   "outputs": [],
   "source": [
    "def cleaner(sent):\n",
    "    try:\n",
    "        sents = sent.split('.')\n",
    "        sents = [re.sub('<[^<]+?>', '', i).strip() for i in sents]\n",
    "        sents = [re.sub('[!\"#$%&\\'()*,./:;<=>?@[\\\\]^_`{|}~]+ *',' ',i) for i in sents]\n",
    "        sents = [i for i in sents if (len(i) > 0)]\n",
    "        return sents\n",
    "    except:\n",
    "        return []"
   ]
  },
  {
   "cell_type": "code",
   "execution_count": 6,
   "metadata": {},
   "outputs": [],
   "source": [
    "rep = pd.read_csv('report.csv')\n",
    "rep = rep[rep['date'] < '2018-12-31'].reset_index(drop=True).apply(lambda x:cleaner(x))"
   ]
  },
  {
   "cell_type": "code",
   "execution_count": 80,
   "metadata": {},
   "outputs": [],
   "source": [
    "title = dfs['기사제목'].apply(lambda x:cleaner(x))\n",
    "summ = dfs['기사내용'].apply(lambda x:cleaner(x))"
   ]
  },
  {
   "cell_type": "code",
   "execution_count": 81,
   "metadata": {},
   "outputs": [],
   "source": [
    "title = title.tolist()\n",
    "summ = summ.tolist()\n",
    "rep = rep.tolist()"
   ]
  },
  {
   "cell_type": "code",
   "execution_count": 83,
   "metadata": {},
   "outputs": [],
   "source": [
    "with open('etf.txt','r') as f:\n",
    "    lines = f.readlines()"
   ]
  },
  {
   "cell_type": "code",
   "execution_count": 84,
   "metadata": {},
   "outputs": [],
   "source": [
    "names = [[i] for i in pd.Series(lines).apply(lambda x:x[6:].strip()).tolist()]"
   ]
  },
  {
   "cell_type": "code",
   "execution_count": 93,
   "metadata": {},
   "outputs": [],
   "source": [
    "wholecorp = summ+ title\n",
    "wholecorp = wholecorp + names\n",
    "corp = []\n",
    "for i in wholecorp:\n",
    "    if len(i) > 0:\n",
    "        corp.append(okt.morphs(i[0]))"
   ]
  },
  {
   "cell_type": "markdown",
   "metadata": {},
   "source": [
    "* Window size 2로 word vector를 훈련하고, dimension size 300에 embedding"
   ]
  },
  {
   "cell_type": "code",
   "execution_count": 94,
   "metadata": {},
   "outputs": [],
   "source": [
    "dim=300\n",
    "ws=2\n",
    "mc = 10"
   ]
  },
  {
   "cell_type": "code",
   "execution_count": 95,
   "metadata": {},
   "outputs": [],
   "source": [
    "model = Word2Vec(sentences=corp, window=ws, size=dim, min_count=mc)"
   ]
  },
  {
   "cell_type": "code",
   "execution_count": 96,
   "metadata": {},
   "outputs": [],
   "source": [
    "initembedding = model.wv.vectors\n",
    "initembedding = np.vstack([np.zeros(dim),initembedding.mean(axis=0),initembedding.mean(axis=0),initembedding.mean(axis=0),initembedding])"
   ]
  },
  {
   "cell_type": "code",
   "execution_count": 97,
   "metadata": {},
   "outputs": [],
   "source": [
    "wordtokey = dict()\n",
    "j=4\n",
    "for i in model.wv.index2word:\n",
    "    wordtokey[i] = j\n",
    "    j += 1"
   ]
  },
  {
   "cell_type": "code",
   "execution_count": 98,
   "metadata": {},
   "outputs": [],
   "source": [
    "wordtokey['<mask>'] = 0\n",
    "wordtokey['<unk>'] = 1\n",
    "wordtokey['<sos>'] = 2\n",
    "wordtokey['<eos>'] = 3"
   ]
  },
  {
   "cell_type": "markdown",
   "metadata": {},
   "source": [
    "* Embedding 결과 및 관련 Dictionary 저장"
   ]
  },
  {
   "cell_type": "code",
   "execution_count": 99,
   "metadata": {},
   "outputs": [],
   "source": [
    "np.save('initembedding2.npy',initembedding)"
   ]
  },
  {
   "cell_type": "code",
   "execution_count": 100,
   "metadata": {},
   "outputs": [],
   "source": [
    "import json\n",
    "with open('wordtokey2.json','w') as f:\n",
    "    json.dump(wordtokey, f)"
   ]
  },
  {
   "cell_type": "markdown",
   "metadata": {},
   "source": [
    "### 리포트 토큰화"
   ]
  },
  {
   "cell_type": "code",
   "execution_count": 11,
   "metadata": {},
   "outputs": [],
   "source": [
    "report = pd.read_csv('report.csv',index_col=0)\n",
    "article = pd.read_csv('article.csv',index_col=0)"
   ]
  },
  {
   "cell_type": "code",
   "execution_count": 60,
   "metadata": {},
   "outputs": [],
   "source": [
    "import json\n",
    "with open('wordtokey2.json','r') as f:\n",
    "    wordtokey = json.load(f)"
   ]
  },
  {
   "cell_type": "code",
   "execution_count": 55,
   "metadata": {},
   "outputs": [],
   "source": [
    "def wordtotoken(word):\n",
    "    try:\n",
    "        token = wordtokey[word]\n",
    "    except: token = wordtokey['<unk>']     \n",
    "    return token\n",
    "\n",
    "def tokenizer(sent):\n",
    "    tl = [wordtotoken(i) for i in sent]\n",
    "    return tl"
   ]
  },
  {
   "cell_type": "code",
   "execution_count": 56,
   "metadata": {},
   "outputs": [],
   "source": [
    "report['token'] = report['okt'].apply(lambda x:eval(x)).apply(lambda x:tokenizer(x))"
   ]
  },
  {
   "cell_type": "code",
   "execution_count": 57,
   "metadata": {},
   "outputs": [],
   "source": [
    "article['tokens'] = article['okt'].apply(lambda x:eval(x)).apply(lambda x:tokenizer(x))"
   ]
  },
  {
   "cell_type": "code",
   "execution_count": 14,
   "metadata": {},
   "outputs": [
    {
     "data": {
      "text/html": [
       "<div>\n",
       "<style scoped>\n",
       "    .dataframe tbody tr th:only-of-type {\n",
       "        vertical-align: middle;\n",
       "    }\n",
       "\n",
       "    .dataframe tbody tr th {\n",
       "        vertical-align: top;\n",
       "    }\n",
       "\n",
       "    .dataframe thead th {\n",
       "        text-align: right;\n",
       "    }\n",
       "</style>\n",
       "<table border=\"1\" class=\"dataframe\">\n",
       "  <thead>\n",
       "    <tr style=\"text-align: right;\">\n",
       "      <th></th>\n",
       "      <th>date</th>\n",
       "      <th>report</th>\n",
       "      <th>token</th>\n",
       "      <th>okt</th>\n",
       "    </tr>\n",
       "  </thead>\n",
       "  <tbody>\n",
       "    <tr>\n",
       "      <th>0</th>\n",
       "      <td>2010-12-13</td>\n",
       "      <td>POSCO 005490 현대미포조선  010620  투자의견 Hold 및 목표주가 ...</td>\n",
       "      <td>[4544, 8591, 377, 2732, 1364, 728, 9598, 23, 3...</td>\n",
       "      <td>['POSCO', '005490', '현', '대미', '포', '조선', '010...</td>\n",
       "    </tr>\n",
       "    <tr>\n",
       "      <th>1</th>\n",
       "      <td>2010-12-13</td>\n",
       "      <td>LG  003550 LG  003550  목표주가를 기존 115 000원에서 135...</td>\n",
       "      <td>[122, 13573, 122, 13573, 114, 73, 158, 1207, 4...</td>\n",
       "      <td>['LG', '003550', 'LG', '003550', '목표', '주가', '...</td>\n",
       "    </tr>\n",
       "    <tr>\n",
       "      <th>2</th>\n",
       "      <td>2010-12-13</td>\n",
       "      <td>현대모비스 012330 현대모비스 012330  목표주가를 325 000 원으로 상...</td>\n",
       "      <td>[48, 1309, 8541, 48, 1309, 8541, 114, 73, 158,...</td>\n",
       "      <td>['현대', '모비스', '012330', '현대', '모비스', '012330',...</td>\n",
       "    </tr>\n",
       "    <tr>\n",
       "      <th>3</th>\n",
       "      <td>2010-12-14</td>\n",
       "      <td>하이닉스 000660 신한금융지주회사 055550  일회성 요인 감안해도 1분기 실...</td>\n",
       "      <td>[533, 5032, 103, 12, 39, 3884, 9704, 45, 206, ...</td>\n",
       "      <td>['하이닉스', '000660', '신', '한', '금융', '지주회사', '05...</td>\n",
       "    </tr>\n",
       "    <tr>\n",
       "      <th>4</th>\n",
       "      <td>2010-12-14</td>\n",
       "      <td>대구은행 005270 LG패션  093050  􀁹 11 1Q 기대 이상의 영업이익 ...</td>\n",
       "      <td>[916, 88, 47687, 122, 619, 14530, 11693, 251, ...</td>\n",
       "      <td>['대구', '은행', '005270', 'LG', '패션', '093050', '...</td>\n",
       "    </tr>\n",
       "    <tr>\n",
       "      <th>...</th>\n",
       "      <td>...</td>\n",
       "      <td>...</td>\n",
       "      <td>...</td>\n",
       "      <td>...</td>\n",
       "    </tr>\n",
       "    <tr>\n",
       "      <th>56692</th>\n",
       "      <td>2021-08-12</td>\n",
       "      <td>코스맥스 192820 역시 남다른 체력 코스맥스 192820 역시 남다른 체력 투자...</td>\n",
       "      <td>[1194, 1602, 9409, 3393, 9123, 5425, 1194, 160...</td>\n",
       "      <td>['코스', '맥스', '192820', '역시', '남다른', '체력', '코스'...</td>\n",
       "    </tr>\n",
       "    <tr>\n",
       "      <th>56693</th>\n",
       "      <td>2021-08-13</td>\n",
       "      <td>오리온 271560 원가 부담 지속 비용 절감 이상의 자구책 필요 카페24 0420...</td>\n",
       "      <td>[1838, 18371, 2934, 546, 53, 890, 1852, 128, 9...</td>\n",
       "      <td>['오리온', '271560', '원가', '부담', '지속', '비용', '절감'...</td>\n",
       "    </tr>\n",
       "    <tr>\n",
       "      <th>56694</th>\n",
       "      <td>2021-08-13</td>\n",
       "      <td>컴투스 078340 2Q21 어닝쇼크 백년전쟁 부진 크로니클 일정 연 하나금융지주 ...</td>\n",
       "      <td>[3065, 8931, 17, 136, 629, 3396, 45584, 383, 5...</td>\n",
       "      <td>['컴투스', '078340', '2', 'Q', '21', '어닝쇼크', '백년전...</td>\n",
       "    </tr>\n",
       "    <tr>\n",
       "      <th>56695</th>\n",
       "      <td>2021-08-13</td>\n",
       "      <td>컴투스 078340 뼈아픈 백년전쟁의 부진 코스맥스 192820 중국 온라인 트렌드...</td>\n",
       "      <td>[3065, 8931, 9710, 11441, 45584, 9, 383, 1194,...</td>\n",
       "      <td>['컴투스', '078340', '뼈', '아픈', '백년전쟁', '의', '부진'...</td>\n",
       "    </tr>\n",
       "    <tr>\n",
       "      <th>56696</th>\n",
       "      <td>2021-08-13</td>\n",
       "      <td>신세계 004170 백화점과 신세계인터내셔날 약진 면세 효율화 넷마블 251270 ...</td>\n",
       "      <td>[442, 7911, 344, 68, 442, 1159, 4222, 737, 477...</td>\n",
       "      <td>['신세계', '004170', '백화점', '과', '신세계', '인터', '내셔...</td>\n",
       "    </tr>\n",
       "  </tbody>\n",
       "</table>\n",
       "<p>56697 rows × 4 columns</p>\n",
       "</div>"
      ],
      "text/plain": [
       "             date                                             report  \\\n",
       "0      2010-12-13  POSCO 005490 현대미포조선  010620  투자의견 Hold 및 목표주가 ...   \n",
       "1      2010-12-13  LG  003550 LG  003550  목표주가를 기존 115 000원에서 135...   \n",
       "2      2010-12-13  현대모비스 012330 현대모비스 012330  목표주가를 325 000 원으로 상...   \n",
       "3      2010-12-14  하이닉스 000660 신한금융지주회사 055550  일회성 요인 감안해도 1분기 실...   \n",
       "4      2010-12-14  대구은행 005270 LG패션  093050  􀁹 11 1Q 기대 이상의 영업이익 ...   \n",
       "...           ...                                                ...   \n",
       "56692  2021-08-12  코스맥스 192820 역시 남다른 체력 코스맥스 192820 역시 남다른 체력 투자...   \n",
       "56693  2021-08-13  오리온 271560 원가 부담 지속 비용 절감 이상의 자구책 필요 카페24 0420...   \n",
       "56694  2021-08-13  컴투스 078340 2Q21 어닝쇼크 백년전쟁 부진 크로니클 일정 연 하나금융지주 ...   \n",
       "56695  2021-08-13  컴투스 078340 뼈아픈 백년전쟁의 부진 코스맥스 192820 중국 온라인 트렌드...   \n",
       "56696  2021-08-13  신세계 004170 백화점과 신세계인터내셔날 약진 면세 효율화 넷마블 251270 ...   \n",
       "\n",
       "                                                   token  \\\n",
       "0      [4544, 8591, 377, 2732, 1364, 728, 9598, 23, 3...   \n",
       "1      [122, 13573, 122, 13573, 114, 73, 158, 1207, 4...   \n",
       "2      [48, 1309, 8541, 48, 1309, 8541, 114, 73, 158,...   \n",
       "3      [533, 5032, 103, 12, 39, 3884, 9704, 45, 206, ...   \n",
       "4      [916, 88, 47687, 122, 619, 14530, 11693, 251, ...   \n",
       "...                                                  ...   \n",
       "56692  [1194, 1602, 9409, 3393, 9123, 5425, 1194, 160...   \n",
       "56693  [1838, 18371, 2934, 546, 53, 890, 1852, 128, 9...   \n",
       "56694  [3065, 8931, 17, 136, 629, 3396, 45584, 383, 5...   \n",
       "56695  [3065, 8931, 9710, 11441, 45584, 9, 383, 1194,...   \n",
       "56696  [442, 7911, 344, 68, 442, 1159, 4222, 737, 477...   \n",
       "\n",
       "                                                     okt  \n",
       "0      ['POSCO', '005490', '현', '대미', '포', '조선', '010...  \n",
       "1      ['LG', '003550', 'LG', '003550', '목표', '주가', '...  \n",
       "2      ['현대', '모비스', '012330', '현대', '모비스', '012330',...  \n",
       "3      ['하이닉스', '000660', '신', '한', '금융', '지주회사', '05...  \n",
       "4      ['대구', '은행', '005270', 'LG', '패션', '093050', '...  \n",
       "...                                                  ...  \n",
       "56692  ['코스', '맥스', '192820', '역시', '남다른', '체력', '코스'...  \n",
       "56693  ['오리온', '271560', '원가', '부담', '지속', '비용', '절감'...  \n",
       "56694  ['컴투스', '078340', '2', 'Q', '21', '어닝쇼크', '백년전...  \n",
       "56695  ['컴투스', '078340', '뼈', '아픈', '백년전쟁', '의', '부진'...  \n",
       "56696  ['신세계', '004170', '백화점', '과', '신세계', '인터', '내셔...  \n",
       "\n",
       "[56697 rows x 4 columns]"
      ]
     },
     "execution_count": 14,
     "metadata": {},
     "output_type": "execute_result"
    }
   ],
   "source": [
    "#최종 결과 데이터\n",
    "report"
   ]
  },
  {
   "cell_type": "code",
   "execution_count": 58,
   "metadata": {},
   "outputs": [],
   "source": [
    "report.to_csv('report2.csv')"
   ]
  },
  {
   "cell_type": "code",
   "execution_count": 59,
   "metadata": {},
   "outputs": [],
   "source": [
    "article.to_csv('article2.csv')"
   ]
  }
 ],
 "metadata": {
  "kernelspec": {
   "display_name": "Python 3",
   "language": "python",
   "name": "python3"
  },
  "language_info": {
   "codemirror_mode": {
    "name": "ipython",
    "version": 3
   },
   "file_extension": ".py",
   "mimetype": "text/x-python",
   "name": "python",
   "nbconvert_exporter": "python",
   "pygments_lexer": "ipython3",
   "version": "3.7.4"
  }
 },
 "nbformat": 4,
 "nbformat_minor": 4
}
